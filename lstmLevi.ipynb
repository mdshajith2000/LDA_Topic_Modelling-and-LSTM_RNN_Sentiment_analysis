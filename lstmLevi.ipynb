{
 "cells": [
  {
   "cell_type": "code",
   "execution_count": 1,
   "metadata": {},
   "outputs": [
    {
     "name": "stderr",
     "output_type": "stream",
     "text": [
      "C:\\Users\\Shajith\\anaconda3\\lib\\site-packages\\tensorflow\\python\\framework\\dtypes.py:516: FutureWarning: Passing (type, 1) or '1type' as a synonym of type is deprecated; in a future version of numpy, it will be understood as (type, (1,)) / '(1,)type'.\n",
      "  _np_qint8 = np.dtype([(\"qint8\", np.int8, 1)])\n",
      "C:\\Users\\Shajith\\anaconda3\\lib\\site-packages\\tensorflow\\python\\framework\\dtypes.py:517: FutureWarning: Passing (type, 1) or '1type' as a synonym of type is deprecated; in a future version of numpy, it will be understood as (type, (1,)) / '(1,)type'.\n",
      "  _np_quint8 = np.dtype([(\"quint8\", np.uint8, 1)])\n",
      "C:\\Users\\Shajith\\anaconda3\\lib\\site-packages\\tensorflow\\python\\framework\\dtypes.py:518: FutureWarning: Passing (type, 1) or '1type' as a synonym of type is deprecated; in a future version of numpy, it will be understood as (type, (1,)) / '(1,)type'.\n",
      "  _np_qint16 = np.dtype([(\"qint16\", np.int16, 1)])\n",
      "C:\\Users\\Shajith\\anaconda3\\lib\\site-packages\\tensorflow\\python\\framework\\dtypes.py:519: FutureWarning: Passing (type, 1) or '1type' as a synonym of type is deprecated; in a future version of numpy, it will be understood as (type, (1,)) / '(1,)type'.\n",
      "  _np_quint16 = np.dtype([(\"quint16\", np.uint16, 1)])\n",
      "C:\\Users\\Shajith\\anaconda3\\lib\\site-packages\\tensorflow\\python\\framework\\dtypes.py:520: FutureWarning: Passing (type, 1) or '1type' as a synonym of type is deprecated; in a future version of numpy, it will be understood as (type, (1,)) / '(1,)type'.\n",
      "  _np_qint32 = np.dtype([(\"qint32\", np.int32, 1)])\n",
      "C:\\Users\\Shajith\\anaconda3\\lib\\site-packages\\tensorflow\\python\\framework\\dtypes.py:525: FutureWarning: Passing (type, 1) or '1type' as a synonym of type is deprecated; in a future version of numpy, it will be understood as (type, (1,)) / '(1,)type'.\n",
      "  np_resource = np.dtype([(\"resource\", np.ubyte, 1)])\n",
      "C:\\Users\\Shajith\\anaconda3\\lib\\site-packages\\tensorboard\\compat\\tensorflow_stub\\dtypes.py:541: FutureWarning: Passing (type, 1) or '1type' as a synonym of type is deprecated; in a future version of numpy, it will be understood as (type, (1,)) / '(1,)type'.\n",
      "  _np_qint8 = np.dtype([(\"qint8\", np.int8, 1)])\n",
      "C:\\Users\\Shajith\\anaconda3\\lib\\site-packages\\tensorboard\\compat\\tensorflow_stub\\dtypes.py:542: FutureWarning: Passing (type, 1) or '1type' as a synonym of type is deprecated; in a future version of numpy, it will be understood as (type, (1,)) / '(1,)type'.\n",
      "  _np_quint8 = np.dtype([(\"quint8\", np.uint8, 1)])\n",
      "C:\\Users\\Shajith\\anaconda3\\lib\\site-packages\\tensorboard\\compat\\tensorflow_stub\\dtypes.py:543: FutureWarning: Passing (type, 1) or '1type' as a synonym of type is deprecated; in a future version of numpy, it will be understood as (type, (1,)) / '(1,)type'.\n",
      "  _np_qint16 = np.dtype([(\"qint16\", np.int16, 1)])\n",
      "C:\\Users\\Shajith\\anaconda3\\lib\\site-packages\\tensorboard\\compat\\tensorflow_stub\\dtypes.py:544: FutureWarning: Passing (type, 1) or '1type' as a synonym of type is deprecated; in a future version of numpy, it will be understood as (type, (1,)) / '(1,)type'.\n",
      "  _np_quint16 = np.dtype([(\"quint16\", np.uint16, 1)])\n",
      "C:\\Users\\Shajith\\anaconda3\\lib\\site-packages\\tensorboard\\compat\\tensorflow_stub\\dtypes.py:545: FutureWarning: Passing (type, 1) or '1type' as a synonym of type is deprecated; in a future version of numpy, it will be understood as (type, (1,)) / '(1,)type'.\n",
      "  _np_qint32 = np.dtype([(\"qint32\", np.int32, 1)])\n",
      "C:\\Users\\Shajith\\anaconda3\\lib\\site-packages\\tensorboard\\compat\\tensorflow_stub\\dtypes.py:550: FutureWarning: Passing (type, 1) or '1type' as a synonym of type is deprecated; in a future version of numpy, it will be understood as (type, (1,)) / '(1,)type'.\n",
      "  np_resource = np.dtype([(\"resource\", np.ubyte, 1)])\n",
      "Using TensorFlow backend.\n"
     ]
    }
   ],
   "source": [
    "import re\n",
    "import matplotlib.pyplot as plt\n",
    "import string\n",
    "from collections import Counter\n",
    "#from wordcloud import WordCloud\n",
    "from sklearn.model_selection import train_test_split\n",
    "import pickle\n",
    "import warnings\n",
    "import seaborn as sns\n",
    "from sklearn.metrics import confusion_matrix\n",
    "import matplotlib.pyplot as plt \n",
    "import tensorflow as tf\n",
    "import keras\n",
    "import numpy as np\n",
    "import pandas as pd"
   ]
  },
  {
   "cell_type": "code",
   "execution_count": 2,
   "metadata": {},
   "outputs": [],
   "source": [
    "tr = pd.read_csv('OutputSentiment_levi1a.csv', encoding='mac_roman')\n",
    "tr=tr.astype(str)"
   ]
  },
  {
   "cell_type": "code",
   "execution_count": 3,
   "metadata": {},
   "outputs": [
    {
     "data": {
      "text/html": [
       "<div>\n",
       "<style scoped>\n",
       "    .dataframe tbody tr th:only-of-type {\n",
       "        vertical-align: middle;\n",
       "    }\n",
       "\n",
       "    .dataframe tbody tr th {\n",
       "        vertical-align: top;\n",
       "    }\n",
       "\n",
       "    .dataframe thead th {\n",
       "        text-align: right;\n",
       "    }\n",
       "</style>\n",
       "<table border=\"1\" class=\"dataframe\">\n",
       "  <thead>\n",
       "    <tr style=\"text-align: right;\">\n",
       "      <th></th>\n",
       "      <th>id</th>\n",
       "      <th>comment</th>\n",
       "      <th>Polarity</th>\n",
       "    </tr>\n",
       "    <tr>\n",
       "      <th>Sentiment</th>\n",
       "      <th></th>\n",
       "      <th></th>\n",
       "      <th></th>\n",
       "    </tr>\n",
       "  </thead>\n",
       "  <tbody>\n",
       "    <tr>\n",
       "      <th>Negative</th>\n",
       "      <td>240</td>\n",
       "      <td>22257</td>\n",
       "      <td>3910</td>\n",
       "    </tr>\n",
       "    <tr>\n",
       "      <th>Neutral</th>\n",
       "      <td>240</td>\n",
       "      <td>29102</td>\n",
       "      <td>1</td>\n",
       "    </tr>\n",
       "    <tr>\n",
       "      <th>Positive</th>\n",
       "      <td>240</td>\n",
       "      <td>35280</td>\n",
       "      <td>5791</td>\n",
       "    </tr>\n",
       "    <tr>\n",
       "      <th>Very Negative</th>\n",
       "      <td>237</td>\n",
       "      <td>2320</td>\n",
       "      <td>139</td>\n",
       "    </tr>\n",
       "    <tr>\n",
       "      <th>Very Positive</th>\n",
       "      <td>240</td>\n",
       "      <td>7730</td>\n",
       "      <td>157</td>\n",
       "    </tr>\n",
       "  </tbody>\n",
       "</table>\n",
       "</div>"
      ],
      "text/plain": [
       "                id  comment  Polarity\n",
       "Sentiment                            \n",
       "Negative       240    22257      3910\n",
       "Neutral        240    29102         1\n",
       "Positive       240    35280      5791\n",
       "Very Negative  237     2320       139\n",
       "Very Positive  240     7730       157"
      ]
     },
     "execution_count": 3,
     "metadata": {},
     "output_type": "execute_result"
    }
   ],
   "source": [
    "tr.groupby('Sentiment').nunique()"
   ]
  },
  {
   "cell_type": "code",
   "execution_count": 4,
   "metadata": {},
   "outputs": [
    {
     "data": {
      "image/png": "[encoded data removed]",
      "text/plain": [
       "<Figure size 1080x576 with 1 Axes>"
      ]
     },
     "metadata": {
      "needs_background": "light"
     },
     "output_type": "display_data"
    }
   ],
   "source": [
    "lis1a = [\"Very Negative\", \"Negative\", \"Neutral\", \"Positive\", \"Very Positive\"]\n",
    "lis2a = [2320, 22257, 29102, 35280, 7730]\n",
    "\n",
    "x = lis1a\n",
    "y = lis2a\n",
    "\n",
    "f1 = plt.figure()\n",
    "f1.set_figwidth(15)\n",
    "f1.set_figheight(8)\n",
    "  \n",
    "plt.xlabel('Sentiment')\n",
    "plt.ylabel('Number of comments')\n",
    "for a,b in zip(lis1a, lis2a): \n",
    "    plt.text(a, b, str(round(b,3)))\n",
    "\n",
    "plt.bar(x, y)\n",
    "plt.show()"
   ]
  },
  {
   "cell_type": "code",
   "execution_count": 5,
   "metadata": {},
   "outputs": [],
   "source": [
    "tr = tr[['comment','Sentiment']]\n",
    "tr.head()\n",
    "tr[\"comment\"].fillna(\"No content\", inplace = True)"
   ]
  },
  {
   "cell_type": "code",
   "execution_count": 6,
   "metadata": {},
   "outputs": [
    {
     "data": {
      "text/plain": [
       "['everybody i talk area   whatever   camp   infuriates   yeah   whatever get   visit parents   grandparents   coworkers   get infected spreads  ',\n",
       " 'people going get   avoid   helps tremendously   this is awesome help explain children teens   especially   thank   ',\n",
       " 'i   feeling hot today   i weird dry cough   little sluggish otherwise feel fine   i work it cloud engineer i asked boss i could telework today   the response i use sick day come work   it   probably nothing   i worried i   want spread anything   i stayed home today i guess i tomorrow   my boss   take serious many people   so i resigned point  ',\n",
       " 'see rest article infectious disease expert   dr   siouxsie wiles      phd oxford       ',\n",
       " 'considering number icu beds   flatten peak save lives   lot lives  ']"
      ]
     },
     "execution_count": 6,
     "metadata": {},
     "output_type": "execute_result"
    }
   ],
   "source": [
    "temp = []\n",
    "#Splitting pd.Series to list\n",
    "dt_list = tr['comment'].values.tolist()\n",
    "for i in range(len(dt_list)):\n",
    "    temp.append(dt_list[i])\n",
    "list(temp[:5])"
   ]
  },
  {
   "cell_type": "code",
   "execution_count": 7,
   "metadata": {},
   "outputs": [],
   "source": [
    "import gensim"
   ]
  },
  {
   "cell_type": "code",
   "execution_count": 8,
   "metadata": {},
   "outputs": [
    {
     "name": "stdout",
     "output_type": "stream",
     "text": [
      "[['everybody', 'talk', 'area', 'whatever', 'camp', 'infuriates', 'yeah', 'whatever', 'get', 'visit', 'parents', 'grandparents', 'coworkers', 'get', 'infected', 'spreads'], ['people', 'going', 'get', 'avoid', 'helps', 'tremendously', 'this', 'is', 'awesome', 'help', 'explain', 'children', 'teens', 'especially', 'thank'], ['feeling', 'hot', 'today', 'weird', 'dry', 'cough', 'little', 'sluggish', 'otherwise', 'feel', 'fine', 'work', 'it', 'cloud', 'engineer', 'asked', 'boss', 'could', 'telework', 'today', 'the', 'response', 'use', 'sick', 'day', 'come', 'work', 'it', 'probably', 'nothing', 'worried', 'want', 'spread', 'anything', 'stayed', 'home', 'today', 'guess', 'tomorrow', 'my', 'boss', 'take', 'serious', 'many', 'people', 'so', 'resigned', 'point'], ['see', 'rest', 'article', 'infectious', 'disease', 'expert', 'dr', 'siouxsie', 'wiles', 'phd', 'oxford'], ['considering', 'number', 'icu', 'beds', 'flatten', 'peak', 'save', 'lives', 'lot', 'lives'], ['meanwhile', 'sacramento', 'county', 'officials', 'like', 'let', 'allow', 'peak', 'grow', 'full', 'potential'], ['waiting', 'naysayers', 'say', 'pandemic', 'fears', 'overblown', 'spread', 'covid', 'get', 'curtailed', 'despite', 'fact', 'took', 'quarantining', 'million', 'people', 'worldwide', 'pull'], ['the', 'stay', 'home', 'sick', 'really', 'applicable', 'stay', 'home', 'better'], ['day', 'isolation', 'only', 'ppl', 'work', 'critical', 'workers', 'water', 'treatment', 'etc', 'italy', 'stopped', 'mortgages', 'rent', 'payments', 'gave', 'everyone', 'unlimited', 'mobile', 'data', 'free', 'amazon', 'prime', 'movies', 'we', 'follow', 'suit'], ['every', 'time', 'someone', 'tells', 'dangerous', 'age', 'range', 'ask', 'happens', 'icu', 'beds', 'taken', 'get', 'car', 'accident']]\n"
     ]
    }
   ],
   "source": [
    "def sent_to_words(sentences):\n",
    "    for x in sentences:\n",
    "        yield(gensim.utils.simple_preprocess(str(x), deacc=True))\n",
    "        \n",
    "\n",
    "words = list(sent_to_words(temp))\n",
    "\n",
    "print(words[:10])"
   ]
  },
  {
   "cell_type": "code",
   "execution_count": 9,
   "metadata": {},
   "outputs": [],
   "source": [
    "from nltk.tokenize.treebank import TreebankWordDetokenizer"
   ]
  },
  {
   "cell_type": "code",
   "execution_count": 10,
   "metadata": {},
   "outputs": [],
   "source": [
    "def detokenize(text):\n",
    "    return TreebankWordDetokenizer().detokenize(text)"
   ]
  },
  {
   "cell_type": "code",
   "execution_count": 11,
   "metadata": {},
   "outputs": [
    {
     "name": "stdout",
     "output_type": "stream",
     "text": [
      "['everybody talk area whatever camp infuriates yeah whatever get visit parents grandparents coworkers get infected spreads', 'people going get avoid helps tremendously this is awesome help explain children teens especially thank', 'feeling hot today weird dry cough little sluggish otherwise feel fine work it cloud engineer asked boss could telework today the response use sick day come work it probably nothing worried want spread anything stayed home today guess tomorrow my boss take serious many people so resigned point', 'see rest article infectious disease expert dr siouxsie wiles phd oxford', 'considering number icu beds flatten peak save lives lot lives']\n"
     ]
    }
   ],
   "source": [
    "data = []\n",
    "for i in range(len(words)):\n",
    "    data.append(detokenize(words[i]))\n",
    "print(data[:5])"
   ]
  },
  {
   "cell_type": "code",
   "execution_count": 12,
   "metadata": {},
   "outputs": [],
   "source": [
    "data = np.array(data)"
   ]
  },
  {
   "cell_type": "code",
   "execution_count": 13,
   "metadata": {},
   "outputs": [],
   "source": [
    "labels = np.array(tr['Sentiment'])\n",
    "y = []\n",
    "for i in range(len(labels)):\n",
    "    if labels[i] == 'Neutral':\n",
    "        y.append(0)\n",
    "    if labels[i] == 'Negative':\n",
    "        y.append(-1)\n",
    "    if labels[i] == 'Positive':\n",
    "        y.append(1)\n",
    "    if labels[i] == 'Very Positive':\n",
    "        y.append(2)\n",
    "    if labels[i] == 'Very Negative':\n",
    "        y.append(-2)\n",
    "y = np.array(y)\n",
    "labels = tf.keras.utils.to_categorical(y, 5, dtype=\"float32\")\n",
    "del y"
   ]
  },
  {
   "cell_type": "code",
   "execution_count": 14,
   "metadata": {},
   "outputs": [
    {
     "name": "stdout",
     "output_type": "stream",
     "text": [
      "[[   0    0    0 ...    5   88 1384]\n",
      " [   0    0    0 ...  534  328  178]\n",
      " [   0    0    0 ...    1   50   95]\n",
      " ...\n",
      " [   0    0    0 ... 1028  265    8]\n",
      " [   0    0    0 ... 4132  800   98]\n",
      " [   0    0    0 ...   92 2857 1499]]\n"
     ]
    }
   ],
   "source": [
    "from keras.models import Sequential\n",
    "from keras import layers\n",
    "from tensorflow.keras.optimizers import RMSprop,Adam\n",
    "from keras.preprocessing.text import Tokenizer\n",
    "from keras.preprocessing.sequence import pad_sequences\n",
    "from keras import regularizers\n",
    "from keras.layers import Dense, Embedding, LSTM, SpatialDropout1D, Dropout\n",
    "from keras import backend as K\n",
    "from keras.callbacks import ModelCheckpoint\n",
    "max_words = 5000\n",
    "max_len = 200\n",
    "\n",
    "tokenizer = Tokenizer(num_words=max_words)\n",
    "tokenizer.fit_on_texts(data)\n",
    "sequences = tokenizer.texts_to_sequences(data)\n",
    "tweets = pad_sequences(sequences, maxlen=max_len)\n",
    "print(tweets)"
   ]
  },
  {
   "cell_type": "code",
   "execution_count": 15,
   "metadata": {},
   "outputs": [
    {
     "name": "stdout",
     "output_type": "stream",
     "text": [
      "74976 24992 74976 24992\n"
     ]
    }
   ],
   "source": [
    "X_train, X_test, y_train, y_test = train_test_split(tweets,labels, random_state=0)\n",
    "print (len(X_train),len(X_test),len(y_train),len(y_test))"
   ]
  },
  {
   "cell_type": "code",
   "execution_count": 16,
   "metadata": {},
   "outputs": [],
   "source": [
    "model1 = Sequential()\n",
    "model1.add(layers.Embedding(max_words, 20))\n",
    "model1.add(layers.LSTM(15,dropout=0.25, return_sequences=True))\n",
    "model1.add(Dropout(0.4))\n",
    "model1.add(layers.LSTM(5,dropout=0.25))\n",
    "model1.add(Dropout(0.4))\n",
    "model1.add(layers.Dense(5,activation='softmax'))"
   ]
  },
  {
   "cell_type": "code",
   "execution_count": 17,
   "metadata": {},
   "outputs": [
    {
     "name": "stdout",
     "output_type": "stream",
     "text": [
      "WARNING:tensorflow:From C:\\Users\\Shajith\\anaconda3\\lib\\site-packages\\keras\\backend\\tensorflow_backend.py:422: The name tf.global_variables is deprecated. Please use tf.compat.v1.global_variables instead.\n",
      "\n",
      "Train on 74976 samples, validate on 24992 samples\n",
      "Epoch 1/10\n",
      "74976/74976 [==============================] - 310s 4ms/step - loss: 1.0826 - accuracy: 0.5692 - val_loss: 0.8278 - val_accuracy: 0.6384\n",
      "\n",
      "Epoch 00001: val_accuracy improved from -inf to 0.63840, saving model to best_model1.hdf5\n",
      "Epoch 2/10\n",
      "74976/74976 [==============================] - 313s 4ms/step - loss: 0.8323 - accuracy: 0.6631 - val_loss: 0.6613 - val_accuracy: 0.7743\n",
      "\n",
      "Epoch 00002: val_accuracy improved from 0.63840 to 0.77433, saving model to best_model1.hdf5\n",
      "Epoch 3/10\n",
      "74976/74976 [==============================] - 757s 10ms/step - loss: 0.7395 - accuracy: 0.7132 - val_loss: 0.5748 - val_accuracy: 0.8087\n",
      "\n",
      "Epoch 00003: val_accuracy improved from 0.77433 to 0.80870, saving model to best_model1.hdf5\n",
      "Epoch 4/10\n",
      "74976/74976 [==============================] - 380s 5ms/step - loss: 0.6958 - accuracy: 0.7338 - val_loss: 0.5249 - val_accuracy: 0.8207\n",
      "\n",
      "Epoch 00004: val_accuracy improved from 0.80870 to 0.82070, saving model to best_model1.hdf5\n",
      "Epoch 5/10\n",
      "74976/74976 [==============================] - 389s 5ms/step - loss: 0.6625 - accuracy: 0.7613 - val_loss: 0.5073 - val_accuracy: 0.8171\n",
      "\n",
      "Epoch 00005: val_accuracy did not improve from 0.82070\n",
      "Epoch 6/10\n",
      "74976/74976 [==============================] - 317s 4ms/step - loss: 0.6494 - accuracy: 0.7722 - val_loss: 0.4801 - val_accuracy: 0.8364\n",
      "\n",
      "Epoch 00006: val_accuracy improved from 0.82070 to 0.83639, saving model to best_model1.hdf5\n",
      "Epoch 7/10\n",
      "74976/74976 [==============================] - 352s 5ms/step - loss: 0.6288 - accuracy: 0.7853 - val_loss: 0.4559 - val_accuracy: 0.8454\n",
      "\n",
      "Epoch 00007: val_accuracy improved from 0.83639 to 0.84535, saving model to best_model1.hdf5\n",
      "Epoch 8/10\n",
      "74976/74976 [==============================] - 371s 5ms/step - loss: 0.6126 - accuracy: 0.7925 - val_loss: 0.4440 - val_accuracy: 0.8488\n",
      "\n",
      "Epoch 00008: val_accuracy improved from 0.84535 to 0.84875, saving model to best_model1.hdf5\n",
      "Epoch 9/10\n",
      "74976/74976 [==============================] - 328s 4ms/step - loss: 0.5937 - accuracy: 0.8028 - val_loss: 0.4126 - val_accuracy: 0.8634\n",
      "\n",
      "Epoch 00009: val_accuracy improved from 0.84875 to 0.86340, saving model to best_model1.hdf5\n",
      "Epoch 10/10\n",
      "74976/74976 [==============================] - 346s 5ms/step - loss: 0.5748 - accuracy: 0.8110 - val_loss: 0.4040 - val_accuracy: 0.8717\n",
      "\n",
      "Epoch 00010: val_accuracy improved from 0.86340 to 0.87172, saving model to best_model1.hdf5\n"
     ]
    }
   ],
   "source": [
    "model1.compile(optimizer='rmsprop',loss='categorical_crossentropy', metrics=['accuracy'])\n",
    "\n",
    "checkpoint1 = ModelCheckpoint(\"best_model1.hdf5\", monitor='val_accuracy', verbose=1,save_best_only=True, mode='auto', period=1,save_weights_only=False)\n",
    "history = model1.fit(X_train, y_train, epochs=10,validation_data=(X_test, y_test),callbacks=[checkpoint1])"
   ]
  },
  {
   "cell_type": "code",
   "execution_count": 18,
   "metadata": {},
   "outputs": [],
   "source": [
    "best_model = keras.models.load_model(\"best_model1.hdf5\")"
   ]
  },
  {
   "cell_type": "code",
   "execution_count": 19,
   "metadata": {},
   "outputs": [
    {
     "name": "stdout",
     "output_type": "stream",
     "text": [
      "Model accuracy:  0.8717189431190491\n"
     ]
    }
   ],
   "source": [
    "test_loss, test_acc = best_model.evaluate(X_test, y_test, verbose=2)\n",
    "print('Model accuracy: ',test_acc)"
   ]
  },
  {
   "cell_type": "code",
   "execution_count": 20,
   "metadata": {},
   "outputs": [],
   "source": [
    "predictions = best_model.predict(X_test)"
   ]
  },
  {
   "cell_type": "code",
   "execution_count": 21,
   "metadata": {},
   "outputs": [],
   "source": [
    "sentiment = ['Neutral','Very Positive','Positive','Very Negative','Negative']"
   ]
  },
  {
   "cell_type": "code",
   "execution_count": 23,
   "metadata": {},
   "outputs": [
    {
     "data": {
      "text/plain": [
       "'Very Positive'"
      ]
     },
     "execution_count": 23,
     "metadata": {},
     "output_type": "execute_result"
    }
   ],
   "source": [
    "sequence = tokenizer.texts_to_sequences(['It is a really good thing to hear as nearly 100 crore vaccinations have been completed successfully.'])\n",
    "test = pad_sequences(sequence, maxlen=max_len)\n",
    "sentiment[np.around(best_model.predict(test), decimals=0).argmax(axis=1)[0]]"
   ]
  },
  {
   "cell_type": "code",
   "execution_count": 25,
   "metadata": {},
   "outputs": [
    {
     "data": {
      "text/plain": [
       "'Negative'"
      ]
     },
     "execution_count": 25,
     "metadata": {},
     "output_type": "execute_result"
    }
   ],
   "source": [
    "sequence = tokenizer.texts_to_sequences(['It is extremely scary and devastating to hear about of deaths caused by covid everyday'])\n",
    "test = pad_sequences(sequence, maxlen=max_len)\n",
    "sentiment[np.around(best_model.predict(test), decimals=0).argmax(axis=1)[0]]"
   ]
  },
  {
   "cell_type": "code",
   "execution_count": 44,
   "metadata": {},
   "outputs": [
    {
     "data": {
      "text/plain": [
       "'Positive'"
      ]
     },
     "execution_count": 44,
     "metadata": {},
     "output_type": "execute_result"
    }
   ],
   "source": [
    "sequence = tokenizer.texts_to_sequences(['No more Covid restrictions in MP for now'])\n",
    "test = pad_sequences(sequence, maxlen=max_len)\n",
    "sentiment[np.around(best_model.predict(test), decimals=0).argmax(axis=1)[0]]"
   ]
  },
  {
   "cell_type": "code",
   "execution_count": 46,
   "metadata": {},
   "outputs": [
    {
     "data": {
      "text/plain": [
       "'Neutral'"
      ]
     },
     "execution_count": 46,
     "metadata": {},
     "output_type": "execute_result"
    }
   ],
   "source": [
    "sequence = tokenizer.texts_to_sequences(['The virus can spread from an infected persons'])\n",
    "test = pad_sequences(sequence, maxlen=max_len)\n",
    "sentiment[np.around(best_model.predict(test), decimals=0).argmax(axis=1)[0]]"
   ]
  },
  {
   "cell_type": "code",
   "execution_count": 26,
   "metadata": {},
   "outputs": [],
   "source": [
    "import pandas as pd\n",
    "from sklearn import metrics\n",
    "from sklearn.model_selection import train_test_split\n",
    "from sklearn.feature_extraction.text import CountVectorizer\n",
    "from sklearn.svm import LinearSVC\n",
    "from sklearn.naive_bayes import MultinomialNB\n",
    "from sklearn.linear_model import LogisticRegression\n",
    "from sklearn.neighbors import KNeighborsClassifier"
   ]
  },
  {
   "cell_type": "code",
   "execution_count": 27,
   "metadata": {},
   "outputs": [
    {
     "data": {
      "text/html": [
       "<div>\n",
       "<style scoped>\n",
       "    .dataframe tbody tr th:only-of-type {\n",
       "        vertical-align: middle;\n",
       "    }\n",
       "\n",
       "    .dataframe tbody tr th {\n",
       "        vertical-align: top;\n",
       "    }\n",
       "\n",
       "    .dataframe thead th {\n",
       "        text-align: right;\n",
       "    }\n",
       "</style>\n",
       "<table border=\"1\" class=\"dataframe\">\n",
       "  <thead>\n",
       "    <tr style=\"text-align: right;\">\n",
       "      <th></th>\n",
       "      <th>Unnamed: 0</th>\n",
       "      <th>comment</th>\n",
       "      <th>Sentiment</th>\n",
       "    </tr>\n",
       "  </thead>\n",
       "  <tbody>\n",
       "    <tr>\n",
       "      <th>0</th>\n",
       "      <td>0</td>\n",
       "      <td>everybody talk area whatever camp infuriates y...</td>\n",
       "      <td>0</td>\n",
       "    </tr>\n",
       "    <tr>\n",
       "      <th>1</th>\n",
       "      <td>1</td>\n",
       "      <td>people going get avoid helps tremendously this...</td>\n",
       "      <td>1</td>\n",
       "    </tr>\n",
       "    <tr>\n",
       "      <th>2</th>\n",
       "      <td>2</td>\n",
       "      <td>feeling hot today weird dry cough little slugg...</td>\n",
       "      <td>-1</td>\n",
       "    </tr>\n",
       "    <tr>\n",
       "      <th>3</th>\n",
       "      <td>3</td>\n",
       "      <td>see rest article infectious disease expert dr ...</td>\n",
       "      <td>0</td>\n",
       "    </tr>\n",
       "    <tr>\n",
       "      <th>4</th>\n",
       "      <td>4</td>\n",
       "      <td>considering number icu beds flatten peak save ...</td>\n",
       "      <td>0</td>\n",
       "    </tr>\n",
       "  </tbody>\n",
       "</table>\n",
       "</div>"
      ],
      "text/plain": [
       "   Unnamed: 0                                            comment  Sentiment\n",
       "0           0  everybody talk area whatever camp infuriates y...          0\n",
       "1           1  people going get avoid helps tremendously this...          1\n",
       "2           2  feeling hot today weird dry cough little slugg...         -1\n",
       "3           3  see rest article infectious disease expert dr ...          0\n",
       "4           4  considering number icu beds flatten peak save ...          0"
      ]
     },
     "execution_count": 27,
     "metadata": {},
     "output_type": "execute_result"
    }
   ],
   "source": [
    "data = pd.read_csv('OutputSentiment_levi2a.csv')\n",
    "data[\"comment\"].fillna(\"No content\", inplace = True)\n",
    "labels = data['Sentiment']\n",
    "y = []\n",
    "for i in range(len(labels)):\n",
    "    if labels[i] == 'Neutral':\n",
    "        y.append(0)\n",
    "    if labels[i] == 'Negative':\n",
    "        y.append(-1)\n",
    "    if labels[i] == 'Positive':\n",
    "        y.append(1)\n",
    "    if labels[i] == 'Very Negative':\n",
    "        y.append(-2)\n",
    "    if labels[i] == 'Very Positive':\n",
    "        y.append(2)\n",
    "data['Sentiment'] = y\n",
    "data.head()"
   ]
  },
  {
   "cell_type": "code",
   "execution_count": 28,
   "metadata": {},
   "outputs": [],
   "source": [
    "X = data.comment\n",
    "y = data.Sentiment"
   ]
  },
  {
   "cell_type": "code",
   "execution_count": 29,
   "metadata": {},
   "outputs": [],
   "source": [
    "vect = CountVectorizer(stop_words='english', ngram_range = (1,1), max_df = .80, min_df = 4)\n",
    "X_train, X_test, y_train, y_test = train_test_split(X,y,random_state=1, test_size= 0.2)\n",
    "#Using training data to transform text into counts of features for each message\n",
    "vect.fit(X_train)\n",
    "X_train_dtm = vect.transform(X_train) \n",
    "X_test_dtm = vect.transform(X_test)"
   ]
  },
  {
   "cell_type": "code",
   "execution_count": 30,
   "metadata": {},
   "outputs": [
    {
     "name": "stdout",
     "output_type": "stream",
     "text": [
      "\n",
      "Naive Bayes\n",
      "Accuracy Score: 67.99039711913574%\n",
      "Confusion Matrix: \n",
      "[[  42  376   25   17    1]\n",
      " [  30 3151  246 1040   56]\n",
      " [  15  352 4087 1675   68]\n",
      " [  11  896  368 5623  255]\n",
      " [   2  171  132  664  691]]\n"
     ]
    }
   ],
   "source": [
    "NB = MultinomialNB()\n",
    "NB.fit(X_train_dtm, y_train)\n",
    "y_pred = NB.predict(X_test_dtm)\n",
    "print('\\nNaive Bayes')\n",
    "print('Accuracy Score: ',metrics.accuracy_score(y_test,y_pred)*100,'%',sep='')\n",
    "print('Confusion Matrix: ',metrics.confusion_matrix(y_test,y_pred), sep = '\\n')\n"
   ]
  },
  {
   "cell_type": "code",
   "execution_count": 31,
   "metadata": {},
   "outputs": [
    {
     "name": "stdout",
     "output_type": "stream",
     "text": [
      "\n",
      "Logistic Regression\n",
      "Accuracy Score: 84.04521356406921%\n",
      "Confusion Matrix: \n",
      "[[ 262  172   26    0    1]\n",
      " [  89 3526  269  586   53]\n",
      " [   1   78 5974  124   20]\n",
      " [  10  517  383 5997  246]\n",
      " [   6  112  190  307 1045]]\n"
     ]
    },
    {
     "name": "stderr",
     "output_type": "stream",
     "text": [
      "C:\\Users\\Shajith\\anaconda3\\lib\\site-packages\\sklearn\\linear_model\\_logistic.py:940: ConvergenceWarning: lbfgs failed to converge (status=1):\n",
      "STOP: TOTAL NO. of ITERATIONS REACHED LIMIT.\n",
      "\n",
      "Increase the number of iterations (max_iter) or scale the data as shown in:\n",
      "    https://scikit-learn.org/stable/modules/preprocessing.html\n",
      "Please also refer to the documentation for alternative solver options:\n",
      "    https://scikit-learn.org/stable/modules/linear_model.html#logistic-regression\n",
      "  extra_warning_msg=_LOGISTIC_SOLVER_CONVERGENCE_MSG)\n"
     ]
    }
   ],
   "source": [
    "LR = LogisticRegression()\n",
    "LR.fit(X_train_dtm, y_train)\n",
    "y_pred = LR.predict(X_test_dtm)\n",
    "print('\\nLogistic Regression')\n",
    "print('Accuracy Score: ',metrics.accuracy_score(y_test,y_pred)*100,'%',sep='')\n",
    "print('Confusion Matrix: ',metrics.confusion_matrix(y_test,y_pred), sep = '\\n')"
   ]
  },
  {
   "cell_type": "code",
   "execution_count": 32,
   "metadata": {},
   "outputs": [
    {
     "name": "stdout",
     "output_type": "stream",
     "text": [
      "\n",
      "Support Vector Machine\n",
      "Accuracy Score: 81.259377813344%\n",
      "Confusion Matrix: \n",
      "[[ 259  186   11    1    4]\n",
      " [  98 3351  298  706   70]\n",
      " [   3  116 5864  161   53]\n",
      " [  14  650  425 5787  277]\n",
      " [   6  125  177  366  986]]\n"
     ]
    },
    {
     "name": "stderr",
     "output_type": "stream",
     "text": [
      "C:\\Users\\Shajith\\anaconda3\\lib\\site-packages\\sklearn\\svm\\_base.py:947: ConvergenceWarning: Liblinear failed to converge, increase the number of iterations.\n",
      "  \"the number of iterations.\", ConvergenceWarning)\n"
     ]
    }
   ],
   "source": [
    "SVM = LinearSVC()\n",
    "SVM.fit(X_train_dtm, y_train)\n",
    "y_pred = SVM.predict(X_test_dtm)\n",
    "print('\\nSupport Vector Machine')\n",
    "print('Accuracy Score: ',metrics.accuracy_score(y_test,y_pred)*100,'%',sep='')\n",
    "print('Confusion Matrix: ',metrics.confusion_matrix(y_test,y_pred), sep = '\\n')"
   ]
  },
  {
   "cell_type": "code",
   "execution_count": 33,
   "metadata": {},
   "outputs": [
    {
     "name": "stdout",
     "output_type": "stream",
     "text": [
      "\n",
      "K Nearest Neighbors (NN = 3)\n",
      "Accuracy Score: 48.32449734920476%\n",
      "Confusion Matrix: \n",
      "[[ 184   16  251    5    5]\n",
      " [ 343 1180 2556  318  126]\n",
      " [   5   64 6074   29   25]\n",
      " [  90  676 4358 1496  533]\n",
      " [   9   28  868   27  728]]\n"
     ]
    }
   ],
   "source": [
    "KNN = KNeighborsClassifier(n_neighbors = 3)\n",
    "KNN.fit(X_train_dtm, y_train)\n",
    "y_pred = KNN.predict(X_test_dtm)\n",
    "print('\\nK Nearest Neighbors (NN = 3)')\n",
    "print('Accuracy Score: ',metrics.accuracy_score(y_test,y_pred)*100,'%',sep='')\n",
    "print('Confusion Matrix: ',metrics.confusion_matrix(y_test,y_pred), sep = '\\n')"
   ]
  },
  {
   "cell_type": "code",
   "execution_count": 35,
   "metadata": {},
   "outputs": [
    {
     "name": "stderr",
     "output_type": "stream",
     "text": [
      "C:\\Users\\Shajith\\anaconda3\\lib\\site-packages\\ipykernel_launcher.py:18: UserWarning: In Matplotlib 3.3 individual lines on a stem plot will be added as a LineCollection instead of individual lines. This significantly improves the performance of a stem plot. To remove this warning and switch to the new behaviour, set the \"use_line_collection\" keyword argument to True.\n"
     ]
    },
    {
     "data": {
      "image/png": "[encoded data removed]",
      "text/plain": [
       "<Figure size 1080x576 with 1 Axes>"
      ]
     },
     "metadata": {
      "needs_background": "light"
     },
     "output_type": "display_data"
    },
    {
     "data": {
      "image/png": "[encoded data removed]",
      "text/plain": [
       "<Figure size 1080x576 with 1 Axes>"
      ]
     },
     "metadata": {
      "needs_background": "light"
     },
     "output_type": "display_data"
    }
   ],
   "source": [
    "lis1 = ['Naives Bayes', 'Logistic Regression', 'Support Vector Machine', 'K Nearest Neighbors', 'Proposed model']\n",
    "lis2 = [67.99039711913574 , 84.04521356406921 , 81.24937481244373 , 48.32449734920476 , 87.172]\n",
    "import matplotlib.pyplot as plt\n",
    "import numpy as np\n",
    "  \n",
    "x = lis1\n",
    "y = lis2\n",
    "\n",
    "f1 = plt.figure()\n",
    "f1.set_figwidth(15)\n",
    "f1.set_figheight(8)\n",
    "  \n",
    "plt.xlabel('Models')\n",
    "plt.ylabel('Accuracy score')\n",
    "for a,b in zip(lis1, lis2): \n",
    "    plt.text(a, b, str(round(b,3)))\n",
    "\n",
    "plt.stem(x, y)\n",
    "plt.show()\n",
    "\n",
    "f2 = plt.figure()\n",
    "f2.set_figwidth(15)\n",
    "f2.set_figheight(8)\n",
    "  \n",
    "plt.xlabel('Models')\n",
    "plt.ylabel('Accuracy score')\n",
    "for a,b in zip(lis1, lis2): \n",
    "    plt.text(a, b, str(round(b,3)))\n",
    "\n",
    "plt.plot(x, y)\n",
    "plt.show()"
   ]
  },
  {
   "cell_type": "code",
   "execution_count": null,
   "metadata": {},
   "outputs": [],
   "source": []
  }
 ],
 "metadata": {
  "interpreter": {
   "hash": "b7ea056ed03aa60d48a81b07be63d78ecb6621b2d3ea319066e3a141f66daa5f"
  },
  "kernelspec": {
   "display_name": "Python 3",
   "language": "python",
   "name": "python3"
  },
  "language_info": {
   "codemirror_mode": {
    "name": "ipython",
    "version": 3
   },
   "file_extension": ".py",
   "mimetype": "text/x-python",
   "name": "python",
   "nbconvert_exporter": "python",
   "pygments_lexer": "ipython3",
   "version": "3.7.6"
  }
 },
 "nbformat": 4,
 "nbformat_minor": 2
}
